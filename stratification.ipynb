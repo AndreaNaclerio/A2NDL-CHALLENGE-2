{
  "nbformat": 4,
  "nbformat_minor": 0,
  "metadata": {
    "colab": {
      "provenance": [],
      "collapsed_sections": [
        "xz5GD9aYSnti",
        "NtsLQr2tUJBH",
        "VlbP6VHcUfko",
        "VwCeI6yNX7mC"
      ]
    },
    "kernelspec": {
      "name": "python3",
      "display_name": "Python 3"
    },
    "language_info": {
      "name": "python"
    }
  },
  "cells": [
    {
      "cell_type": "markdown",
      "source": [
        "#Connect to drive"
      ],
      "metadata": {
        "id": "xz5GD9aYSnti"
      }
    },
    {
      "cell_type": "code",
      "execution_count": null,
      "metadata": {
        "id": "c2z5VrSiRphi",
        "colab": {
          "base_uri": "https://localhost:8080/"
        },
        "outputId": "e15bf3fe-283e-46b1-db4f-df37cba21bd2"
      },
      "outputs": [
        {
          "output_type": "stream",
          "name": "stdout",
          "text": [
            "Drive already mounted at /gdrive; to attempt to forcibly remount, call drive.mount(\"/gdrive\", force_remount=True).\n",
            "/gdrive/.shortcut-targets-by-id/1LRDqoHBsKCFWi3z-Hv1rH_faI3hVcyc4/Challenge2\n"
          ]
        }
      ],
      "source": [
        "from google.colab import drive\n",
        "drive.mount('/gdrive')\n",
        "%cd /gdrive/My Drive/[2023-2024] AN2DL/Challenge2"
      ]
    },
    {
      "cell_type": "markdown",
      "source": [
        "#Import libraries"
      ],
      "metadata": {
        "id": "NtsLQr2tUJBH"
      }
    },
    {
      "cell_type": "code",
      "source": [
        "# Fix randomness and hide warnings\n",
        "seed = 42\n",
        "\n",
        "import os\n",
        "os.environ['TF_CPP_MIN_LOG_LEVEL'] = '3'\n",
        "os.environ['PYTHONHASHSEED'] = str(seed)\n",
        "os.environ['MPLCONFIGDIR'] = os.getcwd()+'/configs/'\n",
        "\n",
        "import warnings\n",
        "warnings.simplefilter(action='ignore', category=FutureWarning)\n",
        "warnings.simplefilter(action='ignore', category=Warning)\n",
        "\n",
        "import numpy as np\n",
        "np.random.seed(seed)\n",
        "\n",
        "import logging\n",
        "\n",
        "import random\n",
        "random.seed(seed)\n",
        "\n",
        "# Import tensorflow\n",
        "import tensorflow as tf\n",
        "from tensorflow import keras as tfk\n",
        "from tensorflow.keras import layers as tfkl\n",
        "tf.autograph.set_verbosity(0)\n",
        "tf.get_logger().setLevel(logging.ERROR)\n",
        "tf.compat.v1.logging.set_verbosity(tf.compat.v1.logging.ERROR)\n",
        "tf.random.set_seed(seed)\n",
        "tf.compat.v1.set_random_seed(seed)\n",
        "print(tf.__version__)\n",
        "\n",
        "import pandas as pd\n",
        "import seaborn as sns\n",
        "from datetime import datetime\n",
        "import matplotlib.pyplot as plt\n",
        "plt.rc('font', size=16)\n",
        "from sklearn.preprocessing import MinMaxScaler"
      ],
      "metadata": {
        "colab": {
          "base_uri": "https://localhost:8080/"
        },
        "id": "CGEKwaotUL0f",
        "outputId": "d2dcecff-08e4-45e7-e096-ed7ae8ea47bb"
      },
      "execution_count": null,
      "outputs": [
        {
          "output_type": "stream",
          "name": "stdout",
          "text": [
            "2.15.0\n"
          ]
        }
      ]
    },
    {
      "cell_type": "markdown",
      "source": [
        "#Load data"
      ],
      "metadata": {
        "id": "VlbP6VHcUfko"
      }
    },
    {
      "cell_type": "markdown",
      "source": [
        "##unzip data"
      ],
      "metadata": {
        "id": "xXBrIMZyVf3F"
      }
    },
    {
      "cell_type": "code",
      "source": [
        "import zipfile\n",
        "unzip=False\n",
        "if unzip:\n",
        "  extracted_dir = 'training_dataset'\n",
        "  with zipfile.ZipFile('training_dataset.zip', 'r') as zip_ref:\n",
        "      zip_ref.extractall(extracted_dir)\n",
        "  print(f\"Successfully extracted contents to {extracted_dir}\")"
      ],
      "metadata": {
        "id": "NIN2iJDWUjWo"
      },
      "execution_count": null,
      "outputs": []
    },
    {
      "cell_type": "markdown",
      "source": [
        "##load"
      ],
      "metadata": {
        "id": "b5_78HtPVtgw"
      }
    },
    {
      "cell_type": "code",
      "source": [
        "%cd /gdrive/My Drive/[2023-2024] AN2DL/Challenge2/training_dataset"
      ],
      "metadata": {
        "id": "1RaFNQ0aVvJm",
        "colab": {
          "base_uri": "https://localhost:8080/"
        },
        "outputId": "70d4aaf7-1431-4f81-8cc4-08c71de97f34"
      },
      "execution_count": null,
      "outputs": [
        {
          "output_type": "stream",
          "name": "stdout",
          "text": [
            "/gdrive/.shortcut-targets-by-id/1LRDqoHBsKCFWi3z-Hv1rH_faI3hVcyc4/Challenge2/training_dataset\n"
          ]
        }
      ]
    },
    {
      "cell_type": "markdown",
      "source": [
        "###categories"
      ],
      "metadata": {
        "id": "aa8za_4NWqei"
      }
    },
    {
      "cell_type": "code",
      "source": [
        "categories=np.load('categories.npy')"
      ],
      "metadata": {
        "id": "y0Jz19xqWKgb"
      },
      "execution_count": null,
      "outputs": []
    },
    {
      "cell_type": "code",
      "source": [
        "categories.shape"
      ],
      "metadata": {
        "colab": {
          "base_uri": "https://localhost:8080/"
        },
        "id": "w74iFySaWRuA",
        "outputId": "69f72ec5-4ab7-4c6c-bd0e-3bf5ea0a0e4d"
      },
      "execution_count": null,
      "outputs": [
        {
          "output_type": "execute_result",
          "data": {
            "text/plain": [
              "(48000,)"
            ]
          },
          "metadata": {},
          "execution_count": 126
        }
      ]
    },
    {
      "cell_type": "code",
      "source": [
        "unique_elements, counts = np.unique(categories, return_counts=True)\n",
        "for element, count in zip(unique_elements, counts):\n",
        "    print(f\"Element: {element}, Count: {count}\")"
      ],
      "metadata": {
        "colab": {
          "base_uri": "https://localhost:8080/"
        },
        "id": "kXiEngNIWW5I",
        "outputId": "4587dfea-6149-4070-dd8a-9286b0235b62"
      },
      "execution_count": null,
      "outputs": [
        {
          "output_type": "stream",
          "name": "stdout",
          "text": [
            "Element: A, Count: 5728\n",
            "Element: B, Count: 10987\n",
            "Element: C, Count: 10017\n",
            "Element: D, Count: 10016\n",
            "Element: E, Count: 10975\n",
            "Element: F, Count: 277\n"
          ]
        }
      ]
    },
    {
      "cell_type": "code",
      "source": [
        "cambi=0\n",
        "first=categories[0]\n",
        "print(first)\n",
        "for i in range(1,categories.shape[0]):\n",
        "  if categories[i-1]!=categories[i]:\n",
        "    cambi+=1\n",
        "    next=categories[i]\n",
        "    print(next, 'i: ',i)\n"
      ],
      "metadata": {
        "colab": {
          "base_uri": "https://localhost:8080/"
        },
        "id": "i2aT1RuP4Dbz",
        "outputId": "8557c2f7-ff4c-4637-e06c-8a329c89b9d3"
      },
      "execution_count": null,
      "outputs": [
        {
          "output_type": "stream",
          "name": "stdout",
          "text": [
            "D\n",
            "E i:  10016\n",
            "A i:  20991\n",
            "C i:  26719\n",
            "B i:  36736\n",
            "F i:  47723\n"
          ]
        }
      ]
    },
    {
      "cell_type": "markdown",
      "source": [
        "###valid_periods"
      ],
      "metadata": {
        "id": "0F40-Ok4WsVh"
      }
    },
    {
      "cell_type": "code",
      "source": [
        "valid_periods=np.load('valid_periods.npy')"
      ],
      "metadata": {
        "id": "XmkBNrWiWu9h"
      },
      "execution_count": null,
      "outputs": []
    },
    {
      "cell_type": "code",
      "source": [
        "valid_periods.shape"
      ],
      "metadata": {
        "colab": {
          "base_uri": "https://localhost:8080/"
        },
        "id": "JuKOOQXQW9U8",
        "outputId": "4f79f271-2198-4a98-ad7e-93fe92f731e8"
      },
      "execution_count": null,
      "outputs": [
        {
          "output_type": "execute_result",
          "data": {
            "text/plain": [
              "(48000, 2)"
            ]
          },
          "metadata": {},
          "execution_count": 130
        }
      ]
    },
    {
      "cell_type": "markdown",
      "source": [
        "###training_data"
      ],
      "metadata": {
        "id": "Sw_oBDQsWvNX"
      }
    },
    {
      "cell_type": "code",
      "source": [
        "training_data=np.load('training_data.npy')"
      ],
      "metadata": {
        "id": "CmuSTKBWWxEH"
      },
      "execution_count": null,
      "outputs": []
    },
    {
      "cell_type": "markdown",
      "source": [
        "#Extract valid signals\n",
        "capito l'asse delle x in riferimento a valid_period voglio capire ora come sono i diversi segnali lungo la y e se la loro distribuzione può essere comparabile. per fare questo devo prima estrarre le singole finestre in cui il segnale non è nullo (se un segnale lungo 2500 è 0 per 2000 campioni la sua media sarà per lo più nulla, poi così vedo anche la distribuzione delle lunghezze del valid period)"
      ],
      "metadata": {
        "id": "VwCeI6yNX7mC"
      }
    },
    {
      "cell_type": "code",
      "source": [
        "def extract_valid_signals(training_data,valid_periods):\n",
        "  #input:\n",
        "  #training_data numpy(48000,2776)\n",
        "  #valid_periods numpy(48000,2)\n",
        "  #output:\n",
        "  #valid_signals numpy(48000,) it is composed, in each row, by an array of different shape containing only the valid signal (not padded)\n",
        "\n",
        "  valid_signal=[0]*training_data.shape[0]\n",
        "  for i in range(training_data.shape[0]):\n",
        "    valid_signal[i]=training_data[i,valid_periods[i][0]:valid_periods[i][1]]\n",
        "\n",
        "  return np.array(valid_signal)"
      ],
      "metadata": {
        "id": "5L0IlP8CXpJL"
      },
      "execution_count": null,
      "outputs": []
    },
    {
      "cell_type": "code",
      "source": [
        "valid_signal=extract_valid_signals(training_data,valid_periods)"
      ],
      "metadata": {
        "id": "XrT6f2dCexF9"
      },
      "execution_count": null,
      "outputs": []
    },
    {
      "cell_type": "code",
      "source": [
        "valid_signal.shape"
      ],
      "metadata": {
        "colab": {
          "base_uri": "https://localhost:8080/"
        },
        "id": "EiykX8kXoHJ_",
        "outputId": "5ad7952b-d821-4c98-b016-59e3f8b78c6c"
      },
      "execution_count": null,
      "outputs": [
        {
          "output_type": "execute_result",
          "data": {
            "text/plain": [
              "(48000,)"
            ]
          },
          "metadata": {},
          "execution_count": 141
        }
      ]
    },
    {
      "cell_type": "markdown",
      "source": [
        "# STRATIFICATION"
      ],
      "metadata": {
        "id": "8mTd8C-Oe991"
      }
    },
    {
      "cell_type": "code",
      "source": [
        "x_d = valid_signal[:10016]\n",
        "x_e = valid_signal[10016:20991]\n",
        "x_a = valid_signal[20991:26719]\n",
        "x_c = valid_signal[26719:36736]\n",
        "x_b = valid_signal[36736:47723]\n",
        "x_f = valid_signal[47723:]"
      ],
      "metadata": {
        "id": "75EEjh9HfVgj"
      },
      "execution_count": null,
      "outputs": []
    },
    {
      "cell_type": "code",
      "source": [
        "x_a.shape"
      ],
      "metadata": {
        "colab": {
          "base_uri": "https://localhost:8080/"
        },
        "id": "Z7awXERbnhDJ",
        "outputId": "bc22a98f-4ca9-4638-e032-6852cbb6c011"
      },
      "execution_count": null,
      "outputs": [
        {
          "output_type": "execute_result",
          "data": {
            "text/plain": [
              "(5728,)"
            ]
          },
          "metadata": {},
          "execution_count": 143
        }
      ]
    },
    {
      "cell_type": "code",
      "source": [
        "p_train = 0.7\n",
        "p_val = 0.15\n",
        "p_test = 0.15"
      ],
      "metadata": {
        "id": "a6ePY-PSgpeO"
      },
      "execution_count": null,
      "outputs": []
    },
    {
      "cell_type": "code",
      "source": [
        "X_train = []\n",
        "X_val = []\n",
        "X_test = []\n",
        "classes = [x_a,x_b,x_c,x_d,x_e,x_f]\n",
        "for i in range(6):\n",
        "  temp_1 = classes[i]\n",
        "  n_train = np.random.choice(np.arange(0, classes[i].shape[0]), size=int(classes[i].shape[0]*p_train), replace=False)\n",
        "  temp_1 = np.delete(temp_1, n_train)\n",
        "  X_train.append(classes[i][n_train])\n",
        "  classes[i] = temp_1\n",
        "\n",
        "  temp_2 = classes[i]\n",
        "  n_val = np.random.choice(np.arange(0, classes[i].shape[0]), size=int(classes[i].shape[0]*(p_val/(1-p_train))), replace=False)\n",
        "  temp_2 = np.delete(temp_2, n_val)\n",
        "  X_val.append(classes[i][n_val])\n",
        "  classes[i] = temp_2\n",
        "\n",
        "  X_test.append(classes[i])\n",
        "\n",
        "X_train = np.array(X_train)\n",
        "X_val = np.array(X_val)\n",
        "X_test = np.array(X_test)"
      ],
      "metadata": {
        "id": "5zI7w6OVhGRa"
      },
      "execution_count": null,
      "outputs": []
    },
    {
      "cell_type": "code",
      "source": [
        "print(X_train[0].shape, X_val[0].shape, X_test[0].shape)"
      ],
      "metadata": {
        "colab": {
          "base_uri": "https://localhost:8080/"
        },
        "id": "MCk7XPQnkuKW",
        "outputId": "4149c38c-8bf4-482b-c0c1-f6deec732833"
      },
      "execution_count": null,
      "outputs": [
        {
          "output_type": "stream",
          "name": "stdout",
          "text": [
            "(4009,) (859,) (860,)\n"
          ]
        }
      ]
    },
    {
      "cell_type": "code",
      "source": [
        "X_test.shape"
      ],
      "metadata": {
        "colab": {
          "base_uri": "https://localhost:8080/"
        },
        "id": "71m0Fnglvcet",
        "outputId": "84a1c167-3632-45de-f1bd-d4aea9ff7cc7"
      },
      "execution_count": null,
      "outputs": [
        {
          "output_type": "execute_result",
          "data": {
            "text/plain": [
              "(6,)"
            ]
          },
          "metadata": {},
          "execution_count": 152
        }
      ]
    },
    {
      "cell_type": "code",
      "source": [
        "X_train_final = []\n",
        "for sublist in X_train:\n",
        "    X_train_final.extend(sublist)\n",
        "X_train_final = np.array(X_train_final)"
      ],
      "metadata": {
        "id": "0wgWqzqDwszm"
      },
      "execution_count": null,
      "outputs": []
    },
    {
      "cell_type": "code",
      "source": [
        "X_val_final = []\n",
        "for sublist in X_val:\n",
        "    X_val_final.extend(sublist)\n",
        "X_val_final = np.array(X_val_final)"
      ],
      "metadata": {
        "id": "4DMgvK82wvgb"
      },
      "execution_count": null,
      "outputs": []
    },
    {
      "cell_type": "code",
      "source": [
        "print(X_train_final.shape, X_val_final.shape)"
      ],
      "metadata": {
        "colab": {
          "base_uri": "https://localhost:8080/"
        },
        "id": "j8eXqJgIxTsL",
        "outputId": "7988b6fc-6a04-4c4e-8a4b-ab2c19c1f88b"
      },
      "execution_count": null,
      "outputs": [
        {
          "output_type": "stream",
          "name": "stdout",
          "text": [
            "(33596,) (7198,)\n"
          ]
        }
      ]
    },
    {
      "cell_type": "code",
      "source": [
        "X_train = X_train_final\n",
        "X_val = X_val_final"
      ],
      "metadata": {
        "id": "ging5XDgxc1T"
      },
      "execution_count": null,
      "outputs": []
    },
    {
      "cell_type": "code",
      "source": [
        "np.save('/gdrive/MyDrive/[2023-2024] AN2DL/Challenge2/X_train.npy', X_train)\n",
        "np.save('/gdrive/MyDrive/[2023-2024] AN2DL/Challenge2/X_val.npy', X_val)"
      ],
      "metadata": {
        "id": "ZXH7GaXrzuqD"
      },
      "execution_count": null,
      "outputs": []
    }
  ]
}